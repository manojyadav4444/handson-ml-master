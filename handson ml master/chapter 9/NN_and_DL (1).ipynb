{
  "nbformat": 4,
  "nbformat_minor": 0,
  "metadata": {
    "colab": {
      "name": "NN_and_DL.ipynb",
      "provenance": [],
      "collapsed_sections": []
    },
    "kernelspec": {
      "name": "python3",
      "display_name": "Python 3"
    }
  },
  "cells": [
    {
      "cell_type": "code",
      "metadata": {
        "id": "WhmW6hkugHHx",
        "colab_type": "code",
        "colab": {}
      },
      "source": [
        "import tensorflow as tf\n",
        "\n",
        "x = tf.Variable(3, name='x')\n",
        "y = tf.Variable(4, name='y')\n",
        "f = x*x*y + y + 2"
      ],
      "execution_count": 0,
      "outputs": []
    },
    {
      "cell_type": "code",
      "metadata": {
        "id": "0eTBnIE9k_Eo",
        "colab_type": "code",
        "outputId": "400b4ade-ee6c-424a-80d2-c4068cdfd96a",
        "colab": {
          "base_uri": "https://localhost:8080/",
          "height": 34
        }
      },
      "source": [
        "sess = tf.Session()\n",
        "sess.run(x.initializer)\n",
        "sess.run(y.initializer)\n",
        "result = sess.run(f)\n",
        "print(result)"
      ],
      "execution_count": 2,
      "outputs": [
        {
          "output_type": "stream",
          "text": [
            "42\n"
          ],
          "name": "stdout"
        }
      ]
    },
    {
      "cell_type": "code",
      "metadata": {
        "id": "nUppS2dOL0O5",
        "colab_type": "code",
        "outputId": "22453c9b-ef2d-4b64-d60b-7c2a0c14c8a3",
        "colab": {
          "base_uri": "https://localhost:8080/",
          "height": 34
        }
      },
      "source": [
        "print(tf.__version__)"
      ],
      "execution_count": 3,
      "outputs": [
        {
          "output_type": "stream",
          "text": [
            "1.14.0\n"
          ],
          "name": "stdout"
        }
      ]
    },
    {
      "cell_type": "code",
      "metadata": {
        "id": "awdhvQCWmZ1x",
        "colab_type": "code",
        "outputId": "7c3afa23-7e41-4a09-c1f7-5a9001fd6ac6",
        "colab": {
          "base_uri": "https://localhost:8080/",
          "height": 34
        }
      },
      "source": [
        "with tf.Session() as sess:\n",
        "  x.initializer.run()\n",
        "  y.initializer.run()\n",
        "  result = f.eval()\n",
        "  \n",
        "print(result)"
      ],
      "execution_count": 4,
      "outputs": [
        {
          "output_type": "stream",
          "text": [
            "42\n"
          ],
          "name": "stdout"
        }
      ]
    },
    {
      "cell_type": "code",
      "metadata": {
        "id": "j5-POgWs1SxT",
        "colab_type": "code",
        "outputId": "433b68f0-89d4-4d96-c1ec-caf4314aaf86",
        "colab": {
          "base_uri": "https://localhost:8080/",
          "height": 34
        }
      },
      "source": [
        "init = tf.global_variables_initializer()\n",
        "\n",
        "with tf.Session() as sess:\n",
        "  init.run()\n",
        "  result = f.eval()\n",
        "print(result)"
      ],
      "execution_count": 5,
      "outputs": [
        {
          "output_type": "stream",
          "text": [
            "42\n"
          ],
          "name": "stdout"
        }
      ]
    },
    {
      "cell_type": "code",
      "metadata": {
        "id": "WZwAVheR2DeS",
        "colab_type": "code",
        "outputId": "6e73d99e-d15a-4f99-a9e4-f43535386290",
        "colab": {
          "base_uri": "https://localhost:8080/",
          "height": 34
        }
      },
      "source": [
        "init = tf.global_variables_initializer()\n",
        "sess = tf.InteractiveSession()\n",
        "\n",
        "init.run()\n",
        "result = f.eval()\n",
        "print(result)\n",
        "\n",
        "sess.close()"
      ],
      "execution_count": 6,
      "outputs": [
        {
          "output_type": "stream",
          "text": [
            "42\n"
          ],
          "name": "stdout"
        }
      ]
    },
    {
      "cell_type": "code",
      "metadata": {
        "id": "PLCFv1YB6H0x",
        "colab_type": "code",
        "outputId": "3bc8ec80-dc2b-44e5-a978-bbd6fdcf79ec",
        "colab": {
          "base_uri": "https://localhost:8080/",
          "height": 34
        }
      },
      "source": [
        "x1 = tf.Variable(1)\n",
        "x1.graph is tf.get_default_graph()"
      ],
      "execution_count": 7,
      "outputs": [
        {
          "output_type": "execute_result",
          "data": {
            "text/plain": [
              "True"
            ]
          },
          "metadata": {
            "tags": []
          },
          "execution_count": 7
        }
      ]
    },
    {
      "cell_type": "code",
      "metadata": {
        "id": "jB4SYmp77lkD",
        "colab_type": "code",
        "outputId": "292124fb-4ac2-4510-a193-644330faddbf",
        "colab": {
          "base_uri": "https://localhost:8080/",
          "height": 34
        }
      },
      "source": [
        "graph = tf.Graph()\n",
        "\n",
        "with graph.as_default():\n",
        "  x2 = tf.Variable(2)\n",
        "  \n",
        "x2.graph is graph "
      ],
      "execution_count": 8,
      "outputs": [
        {
          "output_type": "execute_result",
          "data": {
            "text/plain": [
              "True"
            ]
          },
          "metadata": {
            "tags": []
          },
          "execution_count": 8
        }
      ]
    },
    {
      "cell_type": "code",
      "metadata": {
        "id": "7W2U8JexVdrM",
        "colab_type": "code",
        "outputId": "f899035b-953a-488f-c9bd-26734f1789d5",
        "colab": {
          "base_uri": "https://localhost:8080/",
          "height": 34
        }
      },
      "source": [
        "x2.graph is tf.get_default_graph()"
      ],
      "execution_count": 9,
      "outputs": [
        {
          "output_type": "execute_result",
          "data": {
            "text/plain": [
              "False"
            ]
          },
          "metadata": {
            "tags": []
          },
          "execution_count": 9
        }
      ]
    },
    {
      "cell_type": "code",
      "metadata": {
        "id": "DdYrk50pVqxi",
        "colab_type": "code",
        "colab": {}
      },
      "source": [
        "w = tf.constant(3)\n",
        "x = w+2\n",
        "y=x+5\n",
        "z=x*3"
      ],
      "execution_count": 0,
      "outputs": []
    },
    {
      "cell_type": "code",
      "metadata": {
        "id": "_0Z8FS8EWCFf",
        "colab_type": "code",
        "outputId": "95fd5a81-1e2e-4c93-e383-dae02949c248",
        "colab": {
          "base_uri": "https://localhost:8080/",
          "height": 51
        }
      },
      "source": [
        "with tf.Session() as sess:\n",
        "  print(y.eval())\n",
        "  print(z.eval())"
      ],
      "execution_count": 11,
      "outputs": [
        {
          "output_type": "stream",
          "text": [
            "10\n",
            "15\n"
          ],
          "name": "stdout"
        }
      ]
    },
    {
      "cell_type": "code",
      "metadata": {
        "id": "LPxB0s_PWPp7",
        "colab_type": "code",
        "outputId": "dbf9f253-85bd-4143-de5a-3bdf4bc823f1",
        "colab": {
          "base_uri": "https://localhost:8080/",
          "height": 51
        }
      },
      "source": [
        "with tf.Session() as sess:\n",
        "  y_val, z_val = sess.run([y, z])\n",
        "  print(y_val)\n",
        "  print(z_val)"
      ],
      "execution_count": 12,
      "outputs": [
        {
          "output_type": "stream",
          "text": [
            "10\n",
            "15\n"
          ],
          "name": "stdout"
        }
      ]
    },
    {
      "cell_type": "code",
      "metadata": {
        "id": "2whFAqxsbKEv",
        "colab_type": "code",
        "colab": {
          "base_uri": "https://localhost:8080/",
          "height": 34
        },
        "outputId": "755ec7b0-fed1-4f7e-b665-b2ad5088729b"
      },
      "source": [
        "import numpy as np\n",
        "from sklearn.datasets import fetch_california_housing\n",
        "\n",
        "housing = fetch_california_housing()\n",
        "m, n = housing.data.shape\n",
        "housing_data_plus_bias = np.c_[np.ones((m,1)), housing.data]\n",
        "\n",
        "X = tf.constant(housing_data_plus_bias, dtype = tf.float32, name=\"X\")\n",
        "y = tf.constant(housing.target.reshape(-1,1), dtype = tf.float32, name = \"y\")\n",
        "\n",
        "XT = tf.transpose(X)\n",
        "theta = tf.matmul(tf.matmul(tf.matrix_inverse(tf.matmul(XT,X)), XT), y)"
      ],
      "execution_count": 13,
      "outputs": [
        {
          "output_type": "stream",
          "text": [
            "Downloading Cal. housing from https://ndownloader.figshare.com/files/5976036 to /root/scikit_learn_data\n"
          ],
          "name": "stderr"
        }
      ]
    },
    {
      "cell_type": "code",
      "metadata": {
        "id": "Z2RwVMXPuY9r",
        "colab_type": "code",
        "outputId": "46b3f599-a70d-43b8-d8e6-a3fa59b051c3",
        "colab": {
          "base_uri": "https://localhost:8080/",
          "height": 170
        }
      },
      "source": [
        "with tf.Session() as sess:\n",
        "  theta_val = theta.eval() \n",
        "  \n",
        "print(theta_val)"
      ],
      "execution_count": 14,
      "outputs": [
        {
          "output_type": "stream",
          "text": [
            "[[-3.67372932e+01]\n",
            " [ 4.37366009e-01]\n",
            " [ 9.47520509e-03]\n",
            " [-1.08159676e-01]\n",
            " [ 6.48537397e-01]\n",
            " [-3.84734449e-06]\n",
            " [-3.79239232e-03]\n",
            " [-4.19136107e-01]\n",
            " [-4.32144403e-01]]\n"
          ],
          "name": "stdout"
        }
      ]
    },
    {
      "cell_type": "code",
      "metadata": {
        "id": "NfG7GsULuea4",
        "colab_type": "code",
        "outputId": "0f903cc8-d1ee-46c2-80c1-a2c3534d5dd8",
        "colab": {
          "base_uri": "https://localhost:8080/",
          "height": 238
        }
      },
      "source": [
        "from sklearn.preprocessing import StandardScaler\n",
        "\n",
        "scaler = StandardScaler()\n",
        "scaled_housing_data = scaler.fit_transform(housing.data)\n",
        "scaled_housing_data_plus_bias = np.c_[np.ones((m,1)), scaled_housing_data]\n",
        "scaled_housing_data_plus_bias"
      ],
      "execution_count": 15,
      "outputs": [
        {
          "output_type": "execute_result",
          "data": {
            "text/plain": [
              "array([[ 1.        ,  2.34476576,  0.98214266, ..., -0.04959654,\n",
              "         1.05254828, -1.32783522],\n",
              "       [ 1.        ,  2.33223796, -0.60701891, ..., -0.09251223,\n",
              "         1.04318455, -1.32284391],\n",
              "       [ 1.        ,  1.7826994 ,  1.85618152, ..., -0.02584253,\n",
              "         1.03850269, -1.33282653],\n",
              "       ...,\n",
              "       [ 1.        , -1.14259331, -0.92485123, ..., -0.0717345 ,\n",
              "         1.77823747, -0.8237132 ],\n",
              "       [ 1.        , -1.05458292, -0.84539315, ..., -0.09122515,\n",
              "         1.77823747, -0.87362627],\n",
              "       [ 1.        , -0.78012947, -1.00430931, ..., -0.04368215,\n",
              "         1.75014627, -0.83369581]])"
            ]
          },
          "metadata": {
            "tags": []
          },
          "execution_count": 15
        }
      ]
    },
    {
      "cell_type": "code",
      "metadata": {
        "id": "ZQX6gUdmwHXN",
        "colab_type": "code",
        "outputId": "39a44ca5-1036-4547-bda4-c93f560b8864",
        "colab": {
          "base_uri": "https://localhost:8080/",
          "height": 377
        }
      },
      "source": [
        "\n",
        "\n",
        "n_epochs = 1000\n",
        "learning_rate = 0.01\n",
        "\n",
        "X = tf.constant(scaled_housing_data_plus_bias, dtype = tf.float32, name = \"X\")\n",
        "y = tf.constant(housing.target.reshape(-1,1), dtype = tf.float32, name = \"y\")\n",
        "\n",
        "theta = tf.Variable(tf.random_uniform([n+1, 1], -1.0, 1.0), name = \"theta\")\n",
        "y_pred = tf.matmul(X, theta, name = \"y_predictions\")\n",
        "error = y_pred - y\n",
        "mse = tf.reduce_mean(tf.square(error), name = \"mean_squared_error\")\n",
        "gradients = 2/m * tf.matmul(tf.transpose(X), error)\n",
        "training_op = tf.assign(theta, theta - learning_rate*gradients)\n",
        "\n",
        "init = tf.global_variables_initializer()\n",
        "\n",
        "with tf.Session() as sess:\n",
        "  sess.run(init)\n",
        "  for epoch in range(n_epochs):\n",
        "    if epoch%100 == 0:\n",
        "      print(\" epoch \",epoch,\" mse= \",mse.eval())\n",
        "    sess.run(training_op)\n",
        "  \n",
        "  best_theta = theta.eval()\n",
        "  \n",
        "print(best_theta)\n",
        "\n",
        "\"\"\"\n",
        "n_epochs = 1000\n",
        "learning_rate = 0.01\n",
        "\n",
        "\n",
        "X = tf.constant(scaled_housing_data_plus_bias, dtype = tf.float32, name=\"X\") \n",
        "y = tf.constant(housing.target.reshape(-1,1), dtype = tf.float32, name=\"y\") \n",
        "theta = tf.Variable(tf.random_uniform([n+1, 1], -1.0, 1.0), name=\"theta\") \n",
        "y_pred = tf.matmul(X, theta, name=\"predictions\") \n",
        "error = y_pred - y \n",
        "mse = tf.reduce_mean(tf.square(error), name=\"mse\")\n",
        "gradients = 2/m * tf.matmul(tf.transpose(X), error)\n",
        "training_op = tf.assign(theta, theta - learning_rate*gradients)\n",
        "init = tf.global_variables_initializer()\n",
        "with tf.Session() as sess: \n",
        "  sess.run(init)\n",
        "  for epoch in range(n_epochs):\n",
        "    if epoch%100 == 0:  \n",
        "      print(\"Epoch\", epoch, \"MSE =\", mse.eval())    \n",
        "    sess.run(training_op)\n",
        "  best_theta = theta.eval() \"\"\""
      ],
      "execution_count": 16,
      "outputs": [
        {
          "output_type": "stream",
          "text": [
            " epoch  0  mse=  10.048654\n",
            " epoch  100  mse=  0.8211299\n",
            " epoch  200  mse=  0.6296893\n",
            " epoch  300  mse=  0.60049677\n",
            " epoch  400  mse=  0.5810024\n",
            " epoch  500  mse=  0.56667984\n",
            " epoch  600  mse=  0.5561035\n",
            " epoch  700  mse=  0.54826975\n",
            " epoch  800  mse=  0.54244846\n",
            " epoch  900  mse=  0.5381073\n",
            "[[ 2.0685523e+00]\n",
            " [ 7.0790410e-01]\n",
            " [ 1.2701428e-01]\n",
            " [ 2.2572313e-02]\n",
            " [ 4.1895822e-02]\n",
            " [ 8.2776292e-05]\n",
            " [-3.7430048e-02]\n",
            " [-9.5394969e-01]\n",
            " [-9.0762639e-01]]\n"
          ],
          "name": "stdout"
        },
        {
          "output_type": "execute_result",
          "data": {
            "text/plain": [
              "'\\nn_epochs = 1000\\nlearning_rate = 0.01\\n\\n\\nX = tf.constant(scaled_housing_data_plus_bias, dtype = tf.float32, name=\"X\") \\ny = tf.constant(housing.target.reshape(-1,1), dtype = tf.float32, name=\"y\") \\ntheta = tf.Variable(tf.random_uniform([n+1, 1], -1.0, 1.0), name=\"theta\") \\ny_pred = tf.matmul(X, theta, name=\"predictions\") \\nerror = y_pred - y \\nmse = tf.reduce_mean(tf.square(error), name=\"mse\")\\ngradients = 2/m * tf.matmul(tf.transpose(X), error)\\ntraining_op = tf.assign(theta, theta - learning_rate*gradients)\\ninit = tf.global_variables_initializer()\\nwith tf.Session() as sess: \\n  sess.run(init)\\n  for epoch in range(n_epochs):\\n    if epoch%100 == 0:  \\n      print(\"Epoch\", epoch, \"MSE =\", mse.eval())    \\n    sess.run(training_op)\\n  best_theta = theta.eval() '"
            ]
          },
          "metadata": {
            "tags": []
          },
          "execution_count": 16
        }
      ]
    },
    {
      "cell_type": "code",
      "metadata": {
        "id": "G-WeSD4s60SO",
        "colab_type": "code",
        "outputId": "afeba99a-4fe0-4f2a-b81a-4c1e3bc6575a",
        "colab": {
          "base_uri": "https://localhost:8080/",
          "height": 340
        }
      },
      "source": [
        "n_epochs = 1000\n",
        "learning_rate = 0.01\n",
        "\n",
        "X = tf.constant(scaled_housing_data_plus_bias, dtype=tf.float32, name=\"X\") \n",
        "y = tf.constant(housing.target.reshape(-1, 1), dtype=tf.float32, name=\"y\") \n",
        "theta = tf.Variable(tf.random_uniform([n + 1, 1], -1.0, 1.0), name=\"theta\") \n",
        "y_pred = tf.matmul(X, theta, name=\"predictions\") \n",
        "error = y_pred - y \n",
        "mse = tf.reduce_mean(tf.square(error), name=\"mse\")\n",
        "gradients = tf.gradients(mse, [theta])[0]\n",
        "training_op = tf.assign(theta, theta - learning_rate * gradients)\n",
        "init = tf.global_variables_initializer()\n",
        "with tf.Session() as sess: \n",
        "  sess.run(init)\n",
        "  for epoch in range(n_epochs):\n",
        "    if epoch % 100 == 0:  \n",
        "      print(\"Epoch\", epoch, \"MSE =\", mse.eval())    \n",
        "    sess.run(training_op)\n",
        "  best_theta = theta.eval() \n",
        "  \n",
        "print(best_theta)"
      ],
      "execution_count": 17,
      "outputs": [
        {
          "output_type": "stream",
          "text": [
            "Epoch 0 MSE = 4.3552947\n",
            "Epoch 100 MSE = 0.87964815\n",
            "Epoch 200 MSE = 0.7447146\n",
            "Epoch 300 MSE = 0.68268\n",
            "Epoch 400 MSE = 0.6389591\n",
            "Epoch 500 MSE = 0.6074014\n",
            "Epoch 600 MSE = 0.58457625\n",
            "Epoch 700 MSE = 0.5680576\n",
            "Epoch 800 MSE = 0.5560968\n",
            "Epoch 900 MSE = 0.5474313\n",
            "[[ 2.0685525 ]\n",
            " [ 0.7944369 ]\n",
            " [ 0.16144656]\n",
            " [-0.10686116]\n",
            " [ 0.13394842]\n",
            " [ 0.01148501]\n",
            " [-0.04218767]\n",
            " [-0.6216856 ]\n",
            " [-0.58378595]]\n"
          ],
          "name": "stdout"
        }
      ]
    },
    {
      "cell_type": "code",
      "metadata": {
        "id": "cElmSs3xCz6W",
        "colab_type": "code",
        "outputId": "7d72374c-366b-43cc-9794-fdf9290c89a4",
        "colab": {
          "base_uri": "https://localhost:8080/",
          "height": 340
        }
      },
      "source": [
        "n_epochs = 1000\n",
        "learning_rate = 0.01\n",
        "\n",
        "X = tf.constant(scaled_housing_data_plus_bias, dtype=tf.float32, name=\"X\") \n",
        "y = tf.constant(housing.target.reshape(-1, 1), dtype=tf.float32, name=\"y\") \n",
        "theta = tf.Variable(tf.random_uniform([n + 1, 1], -1.0, 1.0), name=\"theta\") \n",
        "y_pred = tf.matmul(X, theta, name=\"predictions\") \n",
        "error = y_pred - y \n",
        "mse = tf.reduce_mean(tf.square(error), name=\"mse\")\n",
        "\n",
        "optimizer = tf.train.GradientDescentOptimizer(learning_rate = learning_rate)\n",
        "training_op = optimizer.minimize(mse)\n",
        "\n",
        "init = tf.global_variables_initializer()\n",
        "with tf.Session() as sess: \n",
        "  sess.run(init)\n",
        "  for epoch in range(n_epochs):\n",
        "    if epoch % 100 == 0:  \n",
        "      print(\"Epoch\", epoch, \"MSE =\", mse.eval())    \n",
        "    sess.run(training_op)\n",
        "  best_theta = theta.eval() \n",
        "  \n",
        "print(best_theta)"
      ],
      "execution_count": 18,
      "outputs": [
        {
          "output_type": "stream",
          "text": [
            "Epoch 0 MSE = 5.3112473\n",
            "Epoch 100 MSE = 0.71815103\n",
            "Epoch 200 MSE = 0.6289818\n",
            "Epoch 300 MSE = 0.59976006\n",
            "Epoch 400 MSE = 0.5794703\n",
            "Epoch 500 MSE = 0.56474596\n",
            "Epoch 600 MSE = 0.55401963\n",
            "Epoch 700 MSE = 0.5461927\n",
            "Epoch 800 MSE = 0.5404721\n",
            "Epoch 900 MSE = 0.5362832\n",
            "[[ 2.0685525 ]\n",
            " [ 0.8301478 ]\n",
            " [ 0.15164764]\n",
            " [-0.20518379]\n",
            " [ 0.2288214 ]\n",
            " [ 0.00745759]\n",
            " [-0.04212039]\n",
            " [-0.65959156]\n",
            " [-0.627341  ]]\n"
          ],
          "name": "stdout"
        }
      ]
    },
    {
      "cell_type": "code",
      "metadata": {
        "id": "cVPTpEsOEmqh",
        "colab_type": "code",
        "colab": {
          "base_uri": "https://localhost:8080/",
          "height": 68
        },
        "outputId": "a02304d3-29a0-46ae-e4c6-fb1e3d27d0e7"
      },
      "source": [
        "a = tf.placeholder(tf.float32, shape=(None,3))\n",
        "b = a + 5\n",
        "with tf.Session() as sess:\n",
        "  b_1 = b.eval(feed_dict = {a:[[1,2,3]]})\n",
        "  b_2 = b.eval(feed_dict = {a:[[1,2,3],[4,5,6]]})\n",
        "  \n",
        "print(b_1,'\\n',b_2)"
      ],
      "execution_count": 22,
      "outputs": [
        {
          "output_type": "stream",
          "text": [
            "[[6. 7. 8.]] \n",
            " [[ 6.  7.  8.]\n",
            " [ 9. 10. 11.]]\n"
          ],
          "name": "stdout"
        }
      ]
    },
    {
      "cell_type": "code",
      "metadata": {
        "id": "j06DmfX1q-VN",
        "colab_type": "code",
        "colab": {}
      },
      "source": [
        "X = tf.placeholder(tf.float32, shape=(None, n+1), name = 'X')\n",
        "y = tf.placeholder(tf.float32, shape=(None, 1), name = 'y')\n",
        "\n",
        "batch_size = 100\n",
        "n_batches = np.ceil(m/batch_size)\n",
        "\n",
        "def fetch_data(epoch, batch_index, batch_size):\n",
        "  if batch_size*(batch_index + 1) <= m :\n",
        "    X_batch = scaled_housing_data_plus_bias[ batch_index*batch_size: (batch_index+1)*batch_size , : ]\n",
        "    y_batch = housing.target[ batch_index*batch_size: (batch_index+1)*batch_size , 1 ].reshape(-1,1)\n",
        "  else:\n",
        "    X_batch = scaled_housing_data_plus_bias[ batch_index*batch_size: m , : ]\n",
        "    y_batch = housing.target[ batch_index*batch_size: m , 1 ].reshape(-1,1)\n",
        "  \n",
        "return X_batch, y_batch\n",
        "   \n",
        "with tf.Session() as sess:\n",
        "  sess.run(init)\n",
        "  for epoch in range(n_epochs):\n",
        "    for batch_index in range(n_batches):\n",
        "      X_batch, y_batch = fetch_data(epoch, batch_index, batch_size)\n",
        "      sess.run(training_op, feed_dict = {X:X_batch, y:y_batch})\n",
        "  best_theta = theta.eval()"
      ],
      "execution_count": 0,
      "outputs": []
    },
    {
      "cell_type": "code",
      "metadata": {
        "id": "x0Rcq4Daxb_R",
        "colab_type": "code",
        "colab": {}
      },
      "source": [
        "a=[1,2,3,4,5]\n",
        "b = a[:,:]"
      ],
      "execution_count": 0,
      "outputs": []
    }
  ]
}